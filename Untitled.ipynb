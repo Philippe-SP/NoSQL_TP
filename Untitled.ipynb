{
 "cells": [
  {
   "cell_type": "code",
   "execution_count": 5,
   "id": "f09f64a9-7be6-4aee-82fa-09794a637cca",
   "metadata": {},
   "outputs": [
    {
     "name": "stdout",
     "output_type": "stream",
     "text": [
      "{'_id': 'Paris', 'moving_taxis_count': 203}\n",
      "{'_id': 'Lyon', 'moving_taxis_count': 104}\n",
      "{'_id': 'Nice', 'moving_taxis_count': 194}\n",
      "{'_id': 'Marseille', 'moving_taxis_count': 284}\n"
     ]
    }
   ],
   "source": [
    "from pymongo import MongoClient\n",
    "from datetime import datetime, timedelta, timezone\n",
    "\n",
    "# Récupération de la base de données et des collections\n",
    "mongodb_client = MongoClient(\"localhost\", 27017)\n",
    "db = mongodb_client[\"AutoDrive_Pinheiro\"]\n",
    "company_collection = db[\"company\"]\n",
    "timeseries_collection = db[\"timeseries\"]\n",
    "\n",
    "# Requete d'aggregation:\n",
    "#       Q1 : Comptez, par ville, le nombre d'entrées représentant les taxis en\n",
    "#       mouvement (avec des données récentes, par exemple dans la dernière\n",
    "#       heure).\n",
    "\n",
    "one_hour_ago = datetime.now(timezone.utc) - timedelta(hours=1) # Variable correspondant à la dernière heure\n",
    "\n",
    "pipeline = [\n",
    "    {\n",
    "        \"$lookup\": {\n",
    "            \"from\": \"timeseries\", # collection de jointure\n",
    "            \"localField\": \"taxis.license_plate\", # Champs de la collection d'aggregation\n",
    "            \"foreignField\": \"license_plate\", # Champ de la collection de jointure\n",
    "            \"as\": \"real_time_data\" # Nom du resultat des deux collections\n",
    "        }\n",
    "    },\n",
    "    {\n",
    "        \"$unwind\": \"$real_time_data\" # Décomposition du resultat de la jointure pour la rendre utilisable\n",
    "    },\n",
    "    {\n",
    "        \"$match\": {\n",
    "            \"$expr\": {\n",
    "                \"$gte\": [\n",
    "                    {\"$dateFromString\": {\"dateString\": \"$real_time_data.timestamp\"}}, # Filtre pour récupérer les valeurs de la dernière heure en convertissant timestamp en datetime\n",
    "                    one_hour_ago\n",
    "                ]\n",
    "            }\n",
    "        }\n",
    "    },\n",
    "    {\n",
    "        \"$match\": {\"real_time_data.status\": \"moving\"} # Récupération des taxis en mouvement\n",
    "    },\n",
    "    {\n",
    "        \"$group\": {\n",
    "            \"_id\": \"$city\",\n",
    "            \"moving_taxis_count\": {\"$sum\": 1} # Regroupement du nombre de taxis en mouvement\n",
    "        }\n",
    "    }\n",
    "]\n",
    "\n",
    "result = company_collection.aggregate(pipeline)\n",
    "\n",
    "# Affichage des résultats\n",
    "for doc in result:\n",
    "    print(doc)"
   ]
  },
  {
   "cell_type": "code",
   "execution_count": null,
   "id": "0bd3a683-bda0-4553-8eeb-c507a2b31d3c",
   "metadata": {},
   "outputs": [],
   "source": []
  }
 ],
 "metadata": {
  "kernelspec": {
   "display_name": "Python 3 (ipykernel)",
   "language": "python",
   "name": "python3"
  },
  "language_info": {
   "codemirror_mode": {
    "name": "ipython",
    "version": 3
   },
   "file_extension": ".py",
   "mimetype": "text/x-python",
   "name": "python",
   "nbconvert_exporter": "python",
   "pygments_lexer": "ipython3",
   "version": "3.12.1"
  }
 },
 "nbformat": 4,
 "nbformat_minor": 5
}
