{
 "cells": [
  {
   "cell_type": "code",
   "execution_count": 5,
   "id": "f09f64a9-7be6-4aee-82fa-09794a637cca",
   "metadata": {},
   "outputs": [
    {
     "name": "stdout",
     "output_type": "stream",
     "text": [
      "{'_id': 'Paris', 'moving_taxis_count': 203}\n",
      "{'_id': 'Lyon', 'moving_taxis_count': 104}\n",
      "{'_id': 'Nice', 'moving_taxis_count': 194}\n",
      "{'_id': 'Marseille', 'moving_taxis_count': 284}\n"
     ]
    }
   ],
   "source": [
    "from pymongo import MongoClient\n",
    "from datetime import datetime, timedelta, timezone\n",
    "\n",
    "# Récupération de la base de données et des collections\n",
    "mongodb_client = MongoClient(\"localhost\", 27017)\n",
    "db = mongodb_client[\"AutoDrive_Pinheiro\"]\n",
    "company_collection = db[\"company\"]\n",
    "timeseries_collection = db[\"timeseries\"]\n",
    "\n",
    "# Requete d'aggregation:\n",
    "#       Q1 : Comptez, par ville, le nombre d'entrées représentant les taxis en\n",
    "#       mouvement (avec des données récentes, par exemple dans la dernière\n",
    "#       heure).\n",
    "\n",
    "one_hour_ago = datetime.now(timezone.utc) - timedelta(hours=1) # Variable correspondant à la dernière heure\n",
    "\n",
    "pipeline = [\n",
    "    {\n",
    "        \"$lookup\": {\n",
    "            \"from\": \"timeseries\", # collection de jointure\n",
    "            \"localField\": \"taxis.license_plate\", # Champs de la collection d'aggregation\n",
    "            \"foreignField\": \"license_plate\", # Champ de la collection de jointure\n",
    "            \"as\": \"real_time_data\" # Nom du resultat des deux collections\n",
    "        }\n",
    "    },\n",
    "    {\n",
    "        \"$unwind\": \"$real_time_data\" # Décomposition du resultat de la jointure pour la rendre utilisable\n",
    "    },\n",
    "    {\n",
    "        \"$match\": {\n",
    "            \"$expr\": {\n",
    "                \"$gte\": [\n",
    "                    {\"$dateFromString\": {\"dateString\": \"$real_time_data.timestamp\"}}, # Filtre pour récupérer les valeurs de la dernière heure en convertissant timestamp en datetime\n",
    "                    one_hour_ago\n",
    "                ]\n",
    "            }\n",
    "        }\n",
    "    },\n",
    "    {\n",
    "        \"$match\": {\"real_time_data.status\": \"moving\"} # Récupération des taxis en mouvement\n",
    "    },\n",
    "    {\n",
    "        \"$group\": {\n",
    "            \"_id\": \"$city\",\n",
    "            \"moving_taxis_count\": {\"$sum\": 1} # Regroupement du nombre de taxis en mouvement\n",
    "        }\n",
    "    }\n",
    "]\n",
    "\n",
    "result = company_collection.aggregate(pipeline)\n",
    "\n",
    "# Affichage des résultats\n",
    "for doc in result:\n",
    "    print(doc)"
   ]
  },
  {
   "cell_type": "code",
   "execution_count": 21,
   "id": "0bd3a683-bda0-4553-8eeb-c507a2b31d3c",
   "metadata": {},
   "outputs": [
    {
     "name": "stdout",
     "output_type": "stream",
     "text": [
      "[]\n"
     ]
    }
   ],
   "source": [
    "from pymongo import MongoClient\n",
    "\n",
    "# Récupération de la base de données et des collections\n",
    "mongodb_client = MongoClient(\"localhost\", 27017)\n",
    "db = mongodb_client[\"AutoDrive_Pinheiro\"]\n",
    "company_collection = db[\"company\"]\n",
    "timeseries_collection = db[\"timeseries\"]\n",
    "\n",
    "# Requete d'aggregation:\n",
    "# Q2: Le taxi qui s'est arrêté le plus de fois (avec les informations de son \n",
    "#     entreprise)\n",
    "\n",
    "timeseries_pipeline = [\n",
    "    {\n",
    "        \"$match\": {\"status\": \"stopped\"}\n",
    "    },\n",
    "    {\n",
    "        \"$group\": {\n",
    "            \"_id\": \"license_plate\", # Regroupement des taxis en fonction de leur plaque d'immatriculation\n",
    "            \"taxi_stopped_count\": {\"$sum\": 1} # Nombre de fois où le taxi s'est arrété\n",
    "        }\n",
    "    },\n",
    "    {\n",
    "        \"$sort\": {\"taxi_stopped_count\": -1} # Ordre décroissant pour avoir le taxi le plus souvent arreté en 1er\n",
    "    },\n",
    "    {\n",
    "        \"$limit\": 1 # Récupération seulement du premier élément\n",
    "    },\n",
    "]\n",
    "\n",
    "timeseries_result = list(timeseries_collection.aggregate(timeseries_pipeline))\n",
    "\n",
    "company_pipeline = [\n",
    "    {\n",
    "        \"$match\": {\"taxis.license_plate\": timeseries_result[0][\"_id\"]} # Récupération des données de l'entreprise du taxi à la place \"_id\"\n",
    "    }\n",
    "]\n",
    "\n",
    "company_result = company_collection.aggregate(company_pipeline)\n",
    "\n",
    "# Affichage du resultat\n",
    "print(list(company_result))"
   ]
  },
  {
   "cell_type": "code",
   "execution_count": 32,
   "id": "9b809901-d8d6-4156-9000-440411a6b3f6",
   "metadata": {},
   "outputs": [
    {
     "name": "stdout",
     "output_type": "stream",
     "text": [
      "[{'_id': 'Paris AutoDrive', 'fleet_age_average': 2019.5}, {'_id': 'SmartDrive', 'fleet_age_average': 2019.75}, {'_id': 'CityRide', 'fleet_age_average': 2019.8}, {'_id': 'Nice Rides', 'fleet_age_average': 2021.0}, {'_id': 'Marseille RoboTaxis', 'fleet_age_average': 2019.5}, {'_id': 'Nice AutoShuttle', 'fleet_age_average': 2019.0}, {'_id': 'Lyon Mobility', 'fleet_age_average': 2020.2}]\n"
     ]
    }
   ],
   "source": [
    "from pymongo import MongoClient\n",
    "\n",
    "# Récupération de la base de données et des collections\n",
    "mongodb_client = MongoClient(\"localhost\", 27017)\n",
    "db = mongodb_client[\"AutoDrive_Pinheiro\"]\n",
    "company_collection = db[\"company\"]\n",
    "\n",
    "# Requete d'aggregation:\n",
    "# Q4 : Pour chaque entreprise, calculez la moyenne d’âge de leur flotte \n",
    "#      (basez-vous sur year_of_production).\n",
    "\n",
    "pipeline = [\n",
    "    {\n",
    "        \"$unwind\": \"$taxis\"  # Décompose les documents de la flotte de taxis\n",
    "    },\n",
    "    {\n",
    "        \"$group\": {\n",
    "            \"_id\": \"$name\",\n",
    "            \"fleet_age_average\": {\"$avg\": \"$taxis.year_of_production\"}\n",
    "        }\n",
    "    }\n",
    "]\n",
    "\n",
    "result = company_collection.aggregate(pipeline)\n",
    "\n",
    "# Affichage du resultat\n",
    "print(list(result))"
   ]
  },
  {
   "cell_type": "code",
   "execution_count": null,
   "id": "95e32501-c971-4e36-99f1-d76deaa58d11",
   "metadata": {},
   "outputs": [],
   "source": []
  }
 ],
 "metadata": {
  "kernelspec": {
   "display_name": "Python 3 (ipykernel)",
   "language": "python",
   "name": "python3"
  },
  "language_info": {
   "codemirror_mode": {
    "name": "ipython",
    "version": 3
   },
   "file_extension": ".py",
   "mimetype": "text/x-python",
   "name": "python",
   "nbconvert_exporter": "python",
   "pygments_lexer": "ipython3",
   "version": "3.12.1"
  }
 },
 "nbformat": 4,
 "nbformat_minor": 5
}
