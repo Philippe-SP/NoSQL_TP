{
 "cells": [
  {
   "cell_type": "code",
   "execution_count": 5,
   "id": "f09f64a9-7be6-4aee-82fa-09794a637cca",
   "metadata": {},
   "outputs": [
    {
     "name": "stdout",
     "output_type": "stream",
     "text": [
      "{'_id': 'Paris', 'moving_taxis_count': 203}\n",
      "{'_id': 'Lyon', 'moving_taxis_count': 104}\n",
      "{'_id': 'Nice', 'moving_taxis_count': 194}\n",
      "{'_id': 'Marseille', 'moving_taxis_count': 284}\n"
     ]
    }
   ],
   "source": [
    "from pymongo import MongoClient\n",
    "from datetime import datetime, timedelta, timezone\n",
    "\n",
    "# Récupération de la base de données et des collections\n",
    "mongodb_client = MongoClient(\"localhost\", 27017)\n",
    "db = mongodb_client[\"AutoDrive_Pinheiro\"]\n",
    "company_collection = db[\"company\"]\n",
    "timeseries_collection = db[\"timeseries\"]\n",
    "\n",
    "# Requete d'aggregation:\n",
    "#       Q1 : Comptez, par ville, le nombre d'entrées représentant les taxis en\n",
    "#       mouvement (avec des données récentes, par exemple dans la dernière\n",
    "#       heure).\n",
    "\n",
    "one_hour_ago = datetime.now(timezone.utc) - timedelta(hours=1) # Variable correspondant à la dernière heure\n",
    "\n",
    "pipeline = [\n",
    "    {\n",
    "        \"$lookup\": {\n",
    "            \"from\": \"timeseries\", # collection de jointure\n",
    "            \"localField\": \"taxis.license_plate\", # Champs de la collection d'aggregation\n",
    "            \"foreignField\": \"license_plate\", # Champ de la collection de jointure\n",
    "            \"as\": \"real_time_data\" # Nom du resultat des deux collections\n",
    "        }\n",
    "    },\n",
    "    {\n",
    "        \"$unwind\": \"$real_time_data\" # Décomposition du resultat de la jointure pour la rendre utilisable\n",
    "    },\n",
    "    {\n",
    "        \"$match\": {\n",
    "            \"$expr\": {\n",
    "                \"$gte\": [\n",
    "                    {\"$dateFromString\": {\"dateString\": \"$real_time_data.timestamp\"}}, # Filtre pour récupérer les valeurs de la dernière heure en convertissant timestamp en datetime\n",
    "                    one_hour_ago\n",
    "                ]\n",
    "            }\n",
    "        }\n",
    "    },\n",
    "    {\n",
    "        \"$match\": {\"real_time_data.status\": \"moving\"} # Récupération des taxis en mouvement\n",
    "    },\n",
    "    {\n",
    "        \"$group\": {\n",
    "            \"_id\": \"$city\",\n",
    "            \"moving_taxis_count\": {\"$sum\": 1} # Regroupement du nombre de taxis en mouvement\n",
    "        }\n",
    "    }\n",
    "]\n",
    "\n",
    "result = company_collection.aggregate(pipeline)\n",
    "\n",
    "# Affichage des résultats\n",
    "for doc in result:\n",
    "    print(doc)"
   ]
  },
  {
   "cell_type": "code",
   "execution_count": 19,
   "id": "0bd3a683-bda0-4553-8eeb-c507a2b31d3c",
   "metadata": {},
   "outputs": [
    {
     "ename": "TypeError",
     "evalue": "'CommandCursor' object is not subscriptable",
     "output_type": "error",
     "traceback": [
      "\u001b[1;31m---------------------------------------------------------------------------\u001b[0m",
      "\u001b[1;31mTypeError\u001b[0m                                 Traceback (most recent call last)",
      "Cell \u001b[1;32mIn[19], line 35\u001b[0m\n\u001b[0;32m     13\u001b[0m timeseries_pipeline \u001b[38;5;241m=\u001b[39m [\n\u001b[0;32m     14\u001b[0m     {\n\u001b[0;32m     15\u001b[0m         \u001b[38;5;124m\"\u001b[39m\u001b[38;5;124m$match\u001b[39m\u001b[38;5;124m\"\u001b[39m: {\u001b[38;5;124m\"\u001b[39m\u001b[38;5;124mstatus\u001b[39m\u001b[38;5;124m\"\u001b[39m: \u001b[38;5;124m\"\u001b[39m\u001b[38;5;124mstopped\u001b[39m\u001b[38;5;124m\"\u001b[39m}\n\u001b[1;32m   (...)\u001b[0m\n\u001b[0;32m     28\u001b[0m     },\n\u001b[0;32m     29\u001b[0m ]\n\u001b[0;32m     31\u001b[0m timeseries_result \u001b[38;5;241m=\u001b[39m timeseries_collection\u001b[38;5;241m.\u001b[39maggregate(timeseries_pipeline)\n\u001b[0;32m     33\u001b[0m company_pipeline \u001b[38;5;241m=\u001b[39m [\n\u001b[0;32m     34\u001b[0m     {\n\u001b[1;32m---> 35\u001b[0m         \u001b[38;5;124m\"\u001b[39m\u001b[38;5;124m$match\u001b[39m\u001b[38;5;124m\"\u001b[39m: {\u001b[38;5;124m\"\u001b[39m\u001b[38;5;124mlicense_plate\u001b[39m\u001b[38;5;124m\"\u001b[39m: \u001b[38;5;28mlist\u001b[39m(\u001b[43mtimeseries_result\u001b[49m\u001b[43m[\u001b[49m\u001b[38;5;124;43m\"\u001b[39;49m\u001b[38;5;124;43mtaxi_stopped_count\u001b[39;49m\u001b[38;5;124;43m\"\u001b[39;49m\u001b[43m]\u001b[49m)}\n\u001b[0;32m     36\u001b[0m     }\n\u001b[0;32m     37\u001b[0m ]\n\u001b[0;32m     39\u001b[0m company_result \u001b[38;5;241m=\u001b[39m company_collection\u001b[38;5;241m.\u001b[39maggregate(company_pipeline)\n\u001b[0;32m     41\u001b[0m \u001b[38;5;66;03m# Affichage du resultat\u001b[39;00m\n",
      "\u001b[1;31mTypeError\u001b[0m: 'CommandCursor' object is not subscriptable"
     ]
    }
   ],
   "source": [
    "from pymongo import MongoClient\n",
    "\n",
    "# Récupération de la base de données et des collections\n",
    "mongodb_client = MongoClient(\"localhost\", 27017)\n",
    "db = mongodb_client[\"AutoDrive_Pinheiro\"]\n",
    "company_collection = db[\"company\"]\n",
    "timeseries_collection = db[\"timeseries\"]\n",
    "\n",
    "# Requete d'aggregation:\n",
    "# Q2: Le taxi qui s'est arrêté le plus de fois (avec les informations de son \n",
    "#     entreprise)\n",
    "\n",
    "timeseries_pipeline = [\n",
    "    {\n",
    "        \"$match\": {\"status\": \"stopped\"}\n",
    "    },\n",
    "    {\n",
    "        \"$group\": {\n",
    "            \"_id\": \"license_plate\", # Regroupement des taxis en fonction de leur plaque d'immatriculation\n",
    "            \"taxi_stopped_count\": {\"$sum\": 1} # Nombre de fois où le taxi s'est arrété\n",
    "        }\n",
    "    },\n",
    "    {\n",
    "        \"$sort\": {\"taxi_stopped_count\": -1} # Ordre décroissant pour avoir le taxi le plus souvent arreté en 1er\n",
    "    },\n",
    "    {\n",
    "        \"$limit\": 1 # Récupération seulement du premier élément\n",
    "    },\n",
    "]\n",
    "\n",
    "timeseries_result = timeseries_collection.aggregate(timeseries_pipeline)\n",
    "\n",
    "company_pipeline = [\n",
    "    {\n",
    "        \"$match\": {\"license_plate\": list(timeseries_result)}\n",
    "    }\n",
    "]\n",
    "\n",
    "company_result = company_collection.aggregate(company_pipeline)\n",
    "\n",
    "# Affichage du resultat\n",
    "print(list(company_result))"
   ]
  },
  {
   "cell_type": "code",
   "execution_count": null,
   "id": "9b809901-d8d6-4156-9000-440411a6b3f6",
   "metadata": {},
   "outputs": [],
   "source": []
  }
 ],
 "metadata": {
  "kernelspec": {
   "display_name": "Python 3 (ipykernel)",
   "language": "python",
   "name": "python3"
  },
  "language_info": {
   "codemirror_mode": {
    "name": "ipython",
    "version": 3
   },
   "file_extension": ".py",
   "mimetype": "text/x-python",
   "name": "python",
   "nbconvert_exporter": "python",
   "pygments_lexer": "ipython3",
   "version": "3.12.1"
  }
 },
 "nbformat": 4,
 "nbformat_minor": 5
}
