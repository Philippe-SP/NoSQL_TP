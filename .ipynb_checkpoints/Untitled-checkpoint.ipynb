{
 "cells": [
  {
   "cell_type": "code",
   "execution_count": 1,
   "id": "f09f64a9-7be6-4aee-82fa-09794a637cca",
   "metadata": {},
   "outputs": [],
   "source": [
    "from pymongo import MongoClient\n",
    "from datetime import datetime, timedelta\n",
    "\n",
    "# Récupération de la base de données et des collections\n",
    "mongodb_client = MongoClient(\"localhost\", 27017)\n",
    "db = mongodb_client[\"AutoDrive_Pinheiro\"]\n",
    "company_collection = db[\"company\"]\n",
    "timeseries_collection = db[\"timeseries\"]\n",
    "\n",
    "# Requete d'aggregation:\n",
    "#       Q1 : Comptez, par ville, le nombre d'entrées représentant les taxis en\n",
    "#       mouvement (avec des données récentes, par exemple dans la dernière\n",
    "#       heure).\n",
    "\n",
    "one_hour_ago = datetime.now() - timedelta(hours=1) # Variable correspondant à la dernière heure\n",
    "\n",
    "pipeline = [\n",
    "    {\n",
    "        \"$lookup\": {\n",
    "            \"from\": \"timeseries\", # collection de jointure\n",
    "            \"localField\": \"taxis.license_plate\", # Champs de la collection d'aggregation\n",
    "            \"foreignField\": \"license_plate\", # Champ de la collection de jointure\n",
    "            \"as\": \"real_time_data\" # Nom du resultat des deux collections\n",
    "        }\n",
    "    },\n",
    "    {\n",
    "        \"$unwind\": \"$real_time_data\" # Décomposition du resultat de la jointure pour la rendre utilisable\n",
    "    },\n",
    "    {\n",
    "        \"$match\": {\"real_time_data.timestamp\": {\"$gte\": one_hour_ago}} # Filtre le resultat pour la dernière heure\n",
    "    },\n",
    "    {\n",
    "        \"$match\": {\"real_time_data.status\": \"moving\"} # Récupération des taxis en mouvement\n",
    "    },\n",
    "    {\n",
    "        \"$group\": {\n",
    "            \"_id\": \"$city\",\n",
    "            \"moving_taxis_count\": {\"$sum\": 1} # Regroupement du nombre de taxis en mouvement\n",
    "        }\n",
    "    }\n",
    "]\n",
    "\n",
    "result = company_collection.aggregate(pipeline)\n",
    "\n",
    "# Affichage des résultats\n",
    "for doc in result:\n",
    "    print(doc)"
   ]
  },
  {
   "cell_type": "code",
   "execution_count": null,
   "id": "6ab54d2a-812c-478e-9c60-31be68ca4cee",
   "metadata": {},
   "outputs": [],
   "source": []
  },
  {
   "cell_type": "code",
   "execution_count": null,
   "id": "d2f82def-4e02-4663-a7fb-acd66c665f53",
   "metadata": {},
   "outputs": [],
   "source": []
  }
 ],
 "metadata": {
  "kernelspec": {
   "display_name": "Python 3 (ipykernel)",
   "language": "python",
   "name": "python3"
  },
  "language_info": {
   "codemirror_mode": {
    "name": "ipython",
    "version": 3
   },
   "file_extension": ".py",
   "mimetype": "text/x-python",
   "name": "python",
   "nbconvert_exporter": "python",
   "pygments_lexer": "ipython3",
   "version": "3.12.1"
  }
 },
 "nbformat": 4,
 "nbformat_minor": 5
}
